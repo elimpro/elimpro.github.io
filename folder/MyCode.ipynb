{
 "cells": [
  {
   "cell_type": "markdown",
   "metadata": {},
   "source": [
    "# Reminder Python Basics"
   ]
  },
  {
   "cell_type": "code",
   "execution_count": 9,
   "metadata": {
    "collapsed": false
   },
   "outputs": [
    {
     "name": "stdout",
     "output_type": "stream",
     "text": [
      "80 is oven\n",
      "20 is oven\n",
      "[ -6.00690005e-01   1.62386018e+00   3.18767112e-01   1.16493796e-01\n",
      "  -1.24431423e+00   6.60389703e-01   3.22648837e-01   1.44913102e-01\n",
      "  -1.37887633e+00  -5.53565044e-01   1.49190432e+00  -1.64605885e+00\n",
      "  -7.06783811e-01   1.88533036e+00  -2.73691216e-01  -1.05667683e+00\n",
      "  -1.11748843e-01   1.71242628e+00  -9.41841666e-01   3.84058569e-01\n",
      "  -5.47679128e-01  -4.19633735e-01   1.47294111e+00   5.26362487e-01\n",
      "  -2.52980476e-01   5.44743512e-01  -2.02245671e-02   3.27396307e-01\n",
      "  -1.33071977e+00  -3.79536475e-02   1.35017372e-01  -6.03637202e-01\n",
      "   3.15339280e-01  -4.67485296e-01  -4.11829109e-01   2.40508689e-01\n",
      "   1.05331014e+00   9.06947776e-01  -8.51496483e-01   1.66466740e-01\n",
      "   1.98698844e-03   8.57930514e-01  -7.95142485e-01  -5.96062571e-01\n",
      "  -1.65686714e+00   1.60121140e+00  -6.96941923e-01   9.20974851e-01\n",
      "  -3.74639608e-01   4.48055218e-01   1.15707804e+00   3.92584389e-01\n",
      "  -3.97365727e-01   2.26119508e+00  -6.49807082e-01  -5.06959687e-01\n",
      "   9.25538087e-01   4.00237819e-01  -5.13093983e-01  -1.57836205e-01\n",
      "   4.62624131e-01   1.19315584e+00   1.57409599e-01   3.16471087e-01\n",
      "  -5.93369581e-01  -2.93949474e-02  -8.70626150e-01  -1.93183375e-01\n",
      "  -7.45627702e-02   3.49924307e-01  -1.25382615e+00   2.96394712e+00\n",
      "   2.05303562e-01  -1.19246702e-01  -6.32642126e-01  -1.05060691e+00\n",
      "  -1.22721478e+00  -2.16078969e-01  -2.13274076e-01  -9.67834951e-01\n",
      "  -8.11611538e-01  -4.96143818e-01  -1.79135286e+00  -3.43733458e-01\n",
      "  -7.88771641e-02  -7.05611725e-02  -1.46118067e-01  -3.77114778e-01\n",
      "  -2.27899060e-01   7.26728358e-01   8.24602701e-01   1.79247332e+00\n",
      "  -1.95562713e-03   6.18159684e-01  -7.23614549e-01   2.80030199e-01\n",
      "  -6.16060140e-01  -1.07713736e+00  -2.85519688e+00  -2.59008606e+00]\n"
     ]
    }
   ],
   "source": [
    "listNB = [1,3,5,80,20]\n",
    "\n",
    "for i in listNB:\n",
    "    if(i % 2 == 0):\n",
    "        print i,\"is oven\"\n",
    "\n",
    "#####################\n",
    "#Importing modules\n",
    "\n",
    "import numpy as np\n",
    "\n",
    "A = np.random.normal(0,1,100)\n",
    "print A \n",
    "\n",
    "#####################\n"
   ]
  },
  {
   "cell_type": "code",
   "execution_count": 40,
   "metadata": {
    "collapsed": false
   },
   "outputs": [
    {
     "data": {
      "text/plain": [
       "[10, 12, 13]"
      ]
     },
     "execution_count": 40,
     "metadata": {},
     "output_type": "execute_result"
    }
   ],
   "source": [
    "#List manipulation\n",
    "\n",
    "x  = [1,3,4,5,6]\n",
    "len(x)\n",
    "\n",
    "x[:3] # take first 3\n",
    "x[:2] #take first two\n",
    "x[-2:]  #take two last numbers\n",
    "x[2:] # start from 2\n",
    "\n",
    "x.extend([5])\n",
    "x.append(5)\n",
    "x\n",
    "\n",
    "### List of lists\n",
    "\n",
    "y = [10, 13, 12]\n",
    "listOfLists = [x, y]\n",
    "listOfLists\n",
    "listOfLists[0][1]\n",
    "\n",
    "z.sort()\n"
   ]
  },
  {
   "cell_type": "code",
   "execution_count": 47,
   "metadata": {
    "collapsed": false
   },
   "outputs": [
    {
     "name": "stdout",
     "output_type": "stream",
     "text": [
      "Janeway\n"
     ]
    },
    {
     "data": {
      "text/plain": [
       "2"
      ]
     },
     "execution_count": 47,
     "metadata": {},
     "output_type": "execute_result"
    }
   ],
   "source": [
    "#Tuples and dictionaries \n",
    "\n",
    "captains = {}\n",
    "captains[\"Enterprise\"] = \"Kirk\"\n",
    "captains[\"Enterprise D\"] = \"Picard\"\n",
    "captains[\"Deep Space Nine\"] = \"Sisko\"\n",
    "captains[\"Voyager\"] = \"Janeway\"\n",
    "\n",
    "print captains[\"Voyager\"]\n",
    "\n",
    "\n",
    "x = (1,2,3)  #Tuples are fix !\n",
    "\n",
    "x[1]\n",
    "\n",
    "#Usefull \n",
    "\n",
    "(age, income) = \"32,120000\".split(',')\n",
    "print age\n",
    "print income"
   ]
  },
  {
   "cell_type": "code",
   "execution_count": 1,
   "metadata": {
    "collapsed": false
   },
   "outputs": [
    {
     "name": "stdout",
     "output_type": "stream",
     "text": [
      "4\n"
     ]
    },
    {
     "data": {
      "text/plain": [
       "25"
      ]
     },
     "execution_count": 1,
     "metadata": {},
     "output_type": "execute_result"
    }
   ],
   "source": [
    "#Functions\n",
    "\n",
    "def SquareIt(x):\n",
    "    return x * x\n",
    "\n",
    "print SquareIt(2)\n",
    "\n",
    "\n",
    "#Use a function inside another one\n",
    "\n",
    "def dosomething(f,x):\n",
    "    return f(x)\n",
    "\n",
    "dosomething(SquareIt,5)"
   ]
  },
  {
   "cell_type": "markdown",
   "metadata": {},
   "source": [
    "# Running scripts"
   ]
  },
  {
   "cell_type": "markdown",
   "metadata": {},
   "source": [
    "In real life you can run a python script in terminal : python ***.py"
   ]
  },
  {
   "cell_type": "markdown",
   "metadata": {},
   "source": [
    "# Statistics & probability basics in python"
   ]
  },
  {
   "cell_type": "code",
   "execution_count": 4,
   "metadata": {
    "collapsed": false
   },
   "outputs": [
    {
     "data": {
      "image/png": "[encoded data removed]",
      "text/plain": [
       "<matplotlib.figure.Figure at 0x10b5e5610>"
      ]
     },
     "metadata": {},
     "output_type": "display_data"
    }
   ],
   "source": [
    "import numpy as np\n",
    "%matplotlib inline\n",
    "import matplotlib.pyplot as plt\n",
    "\n",
    "incomes = np.random.normal(27000, 15000, 10000)\n",
    "plt.hist(incomes, 50)\n",
    "plt.show()"
   ]
  },
  {
   "cell_type": "code",
   "execution_count": 6,
   "metadata": {
    "collapsed": false
   },
   "outputs": [
    {
     "data": {
      "text/plain": [
       "26960.189874498785"
      ]
     },
     "execution_count": 6,
     "metadata": {},
     "output_type": "execute_result"
    }
   ],
   "source": [
    "np.mean(incomes)\n",
    "np.median(incomes)"
   ]
  },
  {
   "cell_type": "code",
   "execution_count": 8,
   "metadata": {
    "collapsed": false
   },
   "outputs": [
    {
     "data": {
      "text/plain": [
       "26991.604741715164"
      ]
     },
     "execution_count": 8,
     "metadata": {},
     "output_type": "execute_result"
    }
   ],
   "source": [
    "incomes = np.append(incomes, [1000000000]) # add someone with a 1M salary\n",
    "\n",
    "# Attention here is the difference between median and mean\n",
    "np.median(incomes)\n",
    "np.mean(incomes)\n"
   ]
  },
  {
   "cell_type": "code",
   "execution_count": 10,
   "metadata": {
    "collapsed": false
   },
   "outputs": [
    {
     "data": {
      "text/plain": [
       "ModeResult(mode=array([45]), count=array([15]))"
      ]
     },
     "execution_count": 10,
     "metadata": {},
     "output_type": "execute_result"
    }
   ],
   "source": [
    "# Generate a random\n",
    "\n",
    "from scipy import stats\n",
    "\n",
    "ages = np.random.randint(18, high=90, size=500)\n",
    "stats.mode(ages)"
   ]
  },
  {
   "cell_type": "code",
   "execution_count": 14,
   "metadata": {
    "collapsed": false
   },
   "outputs": [
    {
     "data": {
      "image/png": "[encoded data removed]",
      "text/plain": [
       "<matplotlib.figure.Figure at 0x10f5b9350>"
      ]
     },
     "metadata": {},
     "output_type": "display_data"
    },
    {
     "name": "stdout",
     "output_type": "stream",
     "text": [
      "standard dev 49.7576766708 and variance is 2475.82638767\n"
     ]
    }
   ],
   "source": [
    "# Var & standard dev\n",
    "\n",
    "%matplotlib inline\n",
    "import numpy as np\n",
    "import matplotlib.pyplot as plt\n",
    "\n",
    "incomes = np.random.normal(100.0, 50.0, 10000)\n",
    "\n",
    "plt.hist(incomes, 50)\n",
    "plt.show()\n",
    "\n",
    "print \"standard dev\", incomes.std(),\"and variance is\",incomes.var()\n"
   ]
  },
  {
   "cell_type": "code",
   "execution_count": 18,
   "metadata": {
    "collapsed": false
   },
   "outputs": [
    {
     "data": {
      "image/png": "[encoded data removed]",
      "text/plain": [
       "<matplotlib.figure.Figure at 0x10fe71690>"
      ]
     },
     "metadata": {},
     "output_type": "display_data"
    }
   ],
   "source": [
    "# Some distributions :\n",
    "\n",
    "\n",
    "%matplotlib inline\n",
    "\n",
    "import numpy as np\n",
    "import matplotlib.pyplot as plt\n",
    "\n",
    "values = np.random.uniform(-10.0, 10.0, 100000)\n",
    "plt.hist(values, 100)\n",
    "plt.show()\n"
   ]
  },
  {
   "cell_type": "code",
   "execution_count": 19,
   "metadata": {
    "collapsed": false
   },
   "outputs": [
    {
     "data": {
      "text/plain": [
       "[<matplotlib.lines.Line2D at 0x10f981590>]"
      ]
     },
     "execution_count": 19,
     "metadata": {},
     "output_type": "execute_result"
    },
    {
     "data": {
      "image/png": "[encoded data removed]",
      "text/plain": [
       "<matplotlib.figure.Figure at 0x10fdbb0d0>"
      ]
     },
     "metadata": {},
     "output_type": "display_data"
    }
   ],
   "source": [
    "#tracer une fonction PDF\n",
    "\n",
    "from scipy.stats import norm\n",
    "import matplotlib.pyplot as plt\n",
    "\n",
    "x = np.arange(-3, 3, 0.001)  # Very usefull !!! \n",
    "plt.plot(x, norm.pdf(x)) # norm.pdf in function of x "
   ]
  },
  {
   "cell_type": "code",
   "execution_count": 50,
   "metadata": {
    "collapsed": false
   },
   "outputs": [
    {
     "data": {
      "image/png": "[encoded data removed]",
      "text/plain": [
       "<matplotlib.figure.Figure at 0x10f99bf50>"
      ]
     },
     "metadata": {},
     "output_type": "display_data"
    },
    {
     "name": "stdout",
     "output_type": "stream",
     "text": [
      "1.17075136704\n"
     ]
    },
    {
     "data": {
      "text/plain": [
       "0.03436369123773364"
      ]
     },
     "execution_count": 50,
     "metadata": {},
     "output_type": "execute_result"
    }
   ],
   "source": [
    "####### Percentiles ###########\n",
    "\n",
    "data = np.random.normal(0,0.5,10000)\n",
    "plt.hist(data,50)\n",
    "plt.show()\n",
    "\n",
    "percentile = np.percentile(data,99)\n",
    "print(percentile)\n",
    "# That's mean 99% of data is right to the value 1.16\n",
    "\n",
    "####### Moments ##############\n",
    "#Kurtosis/ skewness ...\n",
    "\n",
    "np.mean(data)\n",
    "np.var(data)\n",
    "\n",
    "import scipy.stats as sp\n",
    "\n",
    "sp.skew(data)\n",
    "sp.kurtosis(data)"
   ]
  },
  {
   "cell_type": "code",
   "execution_count": 45,
   "metadata": {
    "collapsed": false
   },
   "outputs": [
    {
     "data": {
      "image/png": "[encoded data removed]",
      "text/plain": [
       "<matplotlib.figure.Figure at 0x10ff618d0>"
      ]
     },
     "metadata": {},
     "output_type": "display_data"
    }
   ],
   "source": [
    "########### Graphs ############\n",
    "\n",
    "from scipy.stats import norm\n",
    "import matplotlib.pyplot as plt\n",
    "\n",
    "# a serie of values\n",
    "\n",
    "x = np.arange(-3,3,0.0001)\n",
    "\n",
    "# Define axes\n",
    "axes = plt.axes()\n",
    "axes.set_xlim([-5,5])\n",
    "axes.set_ylim([0,1])\n",
    "\n",
    "# add grid\n",
    "axes.grid()\n",
    "\n",
    "#Label & legend\n",
    "\n",
    "plt.xlabel(\"values\")\n",
    "plt.ylabel(\"Probability\")\n",
    "\n",
    "# Plotting\n",
    "\n",
    "plt.plot(x,norm.pdf(x),'-')  # - for solide line\n",
    "plt.plot(x,norm.pdf(x,1,0.5),'r:') # : for non solide line, r for red\n",
    "\n",
    "# legend\n",
    "\n",
    "plt.legend(['aee','bee'],loc = 1)\n",
    "\n",
    "plt.show()\n",
    "\n",
    "\n"
   ]
  },
  {
   "cell_type": "code",
   "execution_count": 62,
   "metadata": {
    "collapsed": false
   },
   "outputs": [
    {
     "data": {
      "text/plain": [
       "array([[  3.85956256e+00,  -2.87030857e-03],\n",
       "       [ -2.87030857e-03,   9.88022502e-01]])"
      ]
     },
     "execution_count": 62,
     "metadata": {},
     "output_type": "execute_result"
    },
    {
     "data": {
      "image/png": "[encoded data removed]",
      "text/plain": [
       "<matplotlib.figure.Figure at 0x1107a2b50>"
      ]
     },
     "metadata": {},
     "output_type": "display_data"
    }
   ],
   "source": [
    "##### Covariance & correlation\n",
    "\n",
    "x = np.random.normal(1,2,1000)\n",
    "y = np.random.normal(1,1,1000)\n",
    "\n",
    "plt.scatter(x,y)\n",
    "np.cov(x,y)\n"
   ]
  },
  {
   "cell_type": "code",
   "execution_count": null,
   "metadata": {
    "collapsed": true
   },
   "outputs": [],
   "source": []
  }
 ],
 "metadata": {
  "kernelspec": {
   "display_name": "Python 2",
   "language": "python",
   "name": "python2"
  },
  "language_info": {
   "codemirror_mode": {
    "name": "ipython",
    "version": 2
   },
   "file_extension": ".py",
   "mimetype": "text/x-python",
   "name": "python",
   "nbconvert_exporter": "python",
   "pygments_lexer": "ipython2",
   "version": "2.7.12"
  }
 },
 "nbformat": 4,
 "nbformat_minor": 0
}
